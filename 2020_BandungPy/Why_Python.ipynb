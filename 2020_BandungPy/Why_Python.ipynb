{
 "cells": [
  {
   "cell_type": "markdown",
   "metadata": {
    "slideshow": {
     "slide_type": "slide"
    }
   },
   "source": [
    "# Why we should learn Python?\n",
    "\n",
    "Prepared and presented by Boedy <br/>\n",
    "for the first Bandung.py meetup <br/> <br/>\n",
    "Twitter:[@boedybios](https://twitter.com/boedybios) <br/>\n",
    "Github: [https://github.com/boedybios/](https://github.com/boedybios/)"
   ]
  },
  {
   "cell_type": "markdown",
   "metadata": {
    "slideshow": {
     "slide_type": "slide"
    }
   },
   "source": [
    "## What is Python?\n",
    "- interpreted programming language\n",
    "- high-level programming language\n",
    "- general-purpose programming language\n",
    "- created by Guido Van Rossum\n",
    "- first released in 1991"
   ]
  },
  {
   "cell_type": "markdown",
   "metadata": {
    "slideshow": {
     "slide_type": "slide"
    }
   },
   "source": [
    "## Why Python?\n",
    "\n",
    "- Vibrant Community\n",
    "- for Introductory to Programming\n",
    "- the Zen of Python\n",
    "- for Data Science\n",
    "- for Machine Learning and Deep Learning\n",
    "- for Backend"
   ]
  },
  {
   "cell_type": "markdown",
   "metadata": {
    "slideshow": {
     "slide_type": "subslide"
    }
   },
   "source": [
    "### Vibrant Community\n",
    "\n",
    "- National: PythonID\n",
    "- Regional: Surabaya.py, Lombok.py, Bandung.py\n"
   ]
  },
  {
   "cell_type": "markdown",
   "metadata": {
    "slideshow": {
     "slide_type": "subslide"
    }
   },
   "source": [
    "### for Introductory to Programming\n",
    "\n",
    "- Great language to start learning programming\n",
    "- Python syntax is readable and simple\n",
    "- Could and should be used to teach fundamental courses:\n",
    "    - Programming 101 ([Python Crash Course](https://www.amazon.com/Python-Crash-Course-2nd-Edition/dp/1593279280))\n",
    "    - Algorithms ([Grokking Algorithms](https://www.amazon.com/Grokking-Algorithms-illustrated-programmers-curious/dp/1617292230/))\n",
    "    - Data Structures ([Data Structures and Algorithms in Python](https://www.amazon.com/Structures-Algorithms-Goodrich-Goldwasser-Hardcover/dp/B011DC80VY/))\n",
    "    - Object Oriented Programming ([Python 3 Object Oriented Programming](https://www.amazon.com/Python-Object-Oriented-Programming-maintainable-object-oriented/dp/1789615852/))"
   ]
  },
  {
   "cell_type": "markdown",
   "metadata": {
    "slideshow": {
     "slide_type": "subslide"
    }
   },
   "source": [
    "### The Zen of Python"
   ]
  },
  {
   "cell_type": "code",
   "execution_count": 1,
   "metadata": {
    "slideshow": {
     "slide_type": "-"
    }
   },
   "outputs": [
    {
     "name": "stdout",
     "output_type": "stream",
     "text": [
      "The Zen of Python, by Tim Peters\n",
      "\n",
      "Beautiful is better than ugly.\n",
      "Explicit is better than implicit.\n",
      "Simple is better than complex.\n",
      "Complex is better than complicated.\n",
      "Flat is better than nested.\n",
      "Sparse is better than dense.\n",
      "Readability counts.\n",
      "Special cases aren't special enough to break the rules.\n",
      "Although practicality beats purity.\n",
      "Errors should never pass silently.\n",
      "Unless explicitly silenced.\n",
      "In the face of ambiguity, refuse the temptation to guess.\n",
      "There should be one-- and preferably only one --obvious way to do it.\n",
      "Although that way may not be obvious at first unless you're Dutch.\n",
      "Now is better than never.\n",
      "Although never is often better than *right* now.\n",
      "If the implementation is hard to explain, it's a bad idea.\n",
      "If the implementation is easy to explain, it may be a good idea.\n",
      "Namespaces are one honking great idea -- let's do more of those!\n"
     ]
    }
   ],
   "source": [
    "import this "
   ]
  },
  {
   "cell_type": "markdown",
   "metadata": {
    "slideshow": {
     "slide_type": "subslide"
    }
   },
   "source": [
    "### for Data Science\n",
    "\n",
    "- The most commonly used programming language in [Kaggle](https://www.kaggle.com/)\n",
    "- [PyData](https://pydata.org/) is a vibrant and recognised Data Science community\n",
    "- [Jupyter Notebook](https://jupyter.org/) is the standard platform for data science\n",
    "- Handling data like a champ with [Pandas](https://pandas.pydata.org/)\n",
    "- More options for beautiful data visualisation: [Matplotlib](https://matplotlib.org/), [Seaborn](https://seaborn.pydata.org/), [Bokeh](https://bokeh.org/), [Plotly](https://plot.ly/)"
   ]
  },
  {
   "cell_type": "markdown",
   "metadata": {
    "slideshow": {
     "slide_type": "subslide"
    }
   },
   "source": [
    "### for Machine Learning and Deep Learning\n",
    "\n",
    "- Simplify Machine Learning pipeline with [Scikit-Learn](https://scikit-learn.org/stable/) \n",
    "- [NLTK](https://www.nltk.org/) is a powerful NLP toolkit\n",
    "- [opencv-python](https://pypi.org/project/opencv-python/) is best buddie for [OpenCV](https://opencv.org/)\n",
    "- Beginners friendly Deep Learning with [Keras](https://keras.io/)"
   ]
  },
  {
   "cell_type": "markdown",
   "metadata": {
    "slideshow": {
     "slide_type": "subslide"
    }
   },
   "source": [
    "### for Backend\n",
    "\n",
    "- [Django](https://www.djangoproject.com/) is proven as a reliable web framework: YouTube, Instagram, Dropbox, Spotify\n",
    "- Quick and easy web backend with [Flask](https://palletsprojects.com/p/flask/) "
   ]
  },
  {
   "cell_type": "code",
   "execution_count": null,
   "metadata": {},
   "outputs": [],
   "source": []
  }
 ],
 "metadata": {
  "celltoolbar": "Slideshow",
  "kernelspec": {
   "display_name": "Python 3",
   "language": "python",
   "name": "python3"
  },
  "language_info": {
   "codemirror_mode": {
    "name": "ipython",
    "version": 3
   },
   "file_extension": ".py",
   "mimetype": "text/x-python",
   "name": "python",
   "nbconvert_exporter": "python",
   "pygments_lexer": "ipython3",
   "version": "3.7.4"
  }
 },
 "nbformat": 4,
 "nbformat_minor": 2
}
