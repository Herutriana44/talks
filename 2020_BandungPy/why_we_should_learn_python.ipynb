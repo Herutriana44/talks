{
 "cells": [
  {
   "cell_type": "markdown",
   "metadata": {
    "slideshow": {
     "slide_type": "slide"
    }
   },
   "source": [
    "# Why we should learn Python?\n",
    "\n",
    "![](./image/bandung_py.jpg)\n",
    "Prepared and presented by Boedy <br/>\n",
    "for the first Bandung.py meetup <br/> <br/>\n",
    "Twitter: [@boedybios](https://twitter.com/boedybios) <br/>\n",
    "Github: [https://github.com/boedybios/](https://github.com/boedybios/)"
   ]
  },
  {
   "cell_type": "markdown",
   "metadata": {
    "slideshow": {
     "slide_type": "slide"
    }
   },
   "source": [
    "## What is Python?\n",
    "\n",
    "- Interpreted programming language\n",
    "- High-level programming language\n",
    "- General-purpose programming language\n",
    "- Created by Guido Van Rossum\n",
    "- First released in 1991"
   ]
  },
  {
   "cell_type": "markdown",
   "metadata": {
    "slideshow": {
     "slide_type": "slide"
    }
   },
   "source": [
    "## Why Python?\n",
    "\n",
    "- Jobs and Growth\n",
    "- Simple and Easy to Learn\n",
    "- Huge and Vibrant Community"
   ]
  },
  {
   "cell_type": "markdown",
   "metadata": {
    "slideshow": {
     "slide_type": "subslide"
    }
   },
   "source": [
    "### Jobs and Growth\n",
    "\n",
    "- Python is the most trending and heavily used programming languages in the world \n",
    "- Top programming language in 2019 (Stackoverflow survey)\n",
    "- The demands of Python Developers have increased significantly, making it one of the top jobs in demand"
   ]
  },
  {
   "cell_type": "markdown",
   "metadata": {
    "slideshow": {
     "slide_type": "subslide"
    }
   },
   "source": [
    "### Simple and Easy to Learn\n",
    "\n",
    "- Python syntax is both readable and simple; makes it easy to learn\n",
    "- The Zen of Python"
   ]
  },
  {
   "cell_type": "code",
   "execution_count": null,
   "metadata": {
    "slideshow": {
     "slide_type": "-"
    }
   },
   "outputs": [],
   "source": [
    "import this"
   ]
  },
  {
   "cell_type": "markdown",
   "metadata": {
    "slideshow": {
     "slide_type": "subslide"
    }
   },
   "source": [
    "### Huge and Vibrant Community\n",
    "- Python Conferences (Pycon) are held in many countries around the globe\n",
    "\n",
    "#### Python Community in Indonesia\n",
    "- National: PythonID\n",
    "- Regional: PythonID-Jogja, PythonID-smg, Surabaya.py, Lombok.py, Bandung.py\n",
    "- Annual Python Conference in Indonesia: PyconID\n"
   ]
  },
  {
   "cell_type": "markdown",
   "metadata": {
    "slideshow": {
     "slide_type": "slide"
    }
   },
   "source": [
    "## What are Python good at?\n",
    "- Introductory to Programming\n",
    "- Data Science\n",
    "- Machine Learning and Deep Learning\n",
    "- Web Development (Backend)\n",
    "- Internet of Thing (IoT) and Blockchain"
   ]
  },
  {
   "cell_type": "markdown",
   "metadata": {
    "slideshow": {
     "slide_type": "subslide"
    }
   },
   "source": [
    "### for Introductory to Programming\n",
    "\n",
    "- Great language to start learning programming\n",
    "- Python syntax is readable and simple\n",
    "- Could and should be used to teach fundamental courses:\n",
    "    - Programming 101 ([Python Crash Course](https://www.amazon.com/Python-Crash-Course-2nd-Edition/dp/1593279280))\n",
    "    - Algorithms ([Grokking Algorithms](https://www.amazon.com/Grokking-Algorithms-illustrated-programmers-curious/dp/1617292230/))\n",
    "    - Data Structures ([Data Structures and Algorithms in Python](https://www.amazon.com/Structures-Algorithms-Goodrich-Goldwasser-Hardcover/dp/B011DC80VY/))\n",
    "    - Object Oriented Programming ([Python 3 Object Oriented Programming](https://www.amazon.com/Python-Object-Oriented-Programming-maintainable-object-oriented/dp/1789615852/))\n",
    "    - Inferential Statistics ([Checkout my Github page](https://github.com/boedybios/lectures))"
   ]
  },
  {
   "cell_type": "markdown",
   "metadata": {
    "slideshow": {
     "slide_type": "subslide"
    }
   },
   "source": [
    "### for Data Science\n",
    "\n",
    "- The most commonly used programming language in [Kaggle](https://www.kaggle.com/)\n",
    "- [PyData](https://pydata.org/) is a vibrant and recognised Data Science community\n",
    "- [Jupyter Notebook](https://jupyter.org/) is the standard platform for data science\n",
    "- Handling data like a champ with [Pandas](https://pandas.pydata.org/)\n",
    "- More options for beautiful data visualisation: [Matplotlib](https://matplotlib.org/), [Seaborn](https://seaborn.pydata.org/), [Bokeh](https://bokeh.org/), [Plotly](https://plot.ly/)"
   ]
  },
  {
   "cell_type": "markdown",
   "metadata": {
    "slideshow": {
     "slide_type": "subslide"
    }
   },
   "source": [
    "### for Machine Learning and Deep Learning\n",
    "\n",
    "- Simplify Machine Learning pipeline with [Scikit-Learn](https://scikit-learn.org/stable/) \n",
    "- [NLTK](https://www.nltk.org/) is a powerful NLP toolkit\n",
    "- [opencv-python](https://pypi.org/project/opencv-python/) is best buddie for [OpenCV](https://opencv.org/)\n",
    "- Beginners friendly Deep Learning with [Keras](https://keras.io/)"
   ]
  },
  {
   "cell_type": "markdown",
   "metadata": {
    "slideshow": {
     "slide_type": "subslide"
    }
   },
   "source": [
    "### for Web Development (Backend)\n",
    "\n",
    "- [Django](https://www.djangoproject.com/) is proven as a reliable web framework: YouTube, Instagram, Dropbox, Spotify\n",
    "- Quick and easy web backend with [Flask](https://palletsprojects.com/p/flask/) "
   ]
  },
  {
   "cell_type": "markdown",
   "metadata": {
    "slideshow": {
     "slide_type": "subslide"
    }
   },
   "source": [
    "### for Internet of Thing (IoT) and Blockchain\n",
    "\n",
    "- There is a growing number of Python implementation for Iot and Blockchain\n"
   ]
  },
  {
   "cell_type": "markdown",
   "metadata": {
    "slideshow": {
     "slide_type": "slide"
    }
   },
   "source": [
    "## Readbility Counts\n",
    "\n",
    "- How readabale Python syntax is?\n",
    "- Check my talk \"Writing an Idiomatic Python Code\" on my [Github](https://github.com/boedybios/)"
   ]
  },
  {
   "cell_type": "code",
   "execution_count": null,
   "metadata": {},
   "outputs": [],
   "source": [
    "from IPython.display import YouTubeVideo\n",
    "YouTubeVideo('yOkUgGrmR2c')"
   ]
  },
  {
   "cell_type": "markdown",
   "metadata": {
    "slideshow": {
     "slide_type": "slide"
    }
   },
   "source": [
    "# End of Presentation\n",
    "\n",
    "![](./image/pip_install_coffee.png)\n",
    "\n",
    "### Happy Pythoning guys!!!"
   ]
  }
 ],
 "metadata": {
  "celltoolbar": "Slideshow",
  "kernelspec": {
   "display_name": "Python 3",
   "language": "python",
   "name": "python3"
  },
  "language_info": {
   "codemirror_mode": {
    "name": "ipython",
    "version": 3
   },
   "file_extension": ".py",
   "mimetype": "text/x-python",
   "name": "python",
   "nbconvert_exporter": "python",
   "pygments_lexer": "ipython3",
   "version": "3.7.6"
  }
 },
 "nbformat": 4,
 "nbformat_minor": 2
}
